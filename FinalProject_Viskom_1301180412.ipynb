{
  "nbformat": 4,
  "nbformat_minor": 0,
  "metadata": {
    "colab": {
      "provenance": [],
      "private_outputs": true
    },
    "kernelspec": {
      "name": "python3",
      "display_name": "Python 3"
    },
    "accelerator": "GPU",
    "gpuClass": "standard"
  },
  "cells": [
    {
      "cell_type": "markdown",
      "metadata": {
        "id": "5ymu7TZbNciZ"
      },
      "source": [
        "# Semantic Segmentation with MobileNetV3\n",
        "\n"
      ]
    },
    {
      "cell_type": "markdown",
      "source": [
        "1301180412\n",
        "Helmi Rizqulloh Fairuz Gustiana\n"
      ],
      "metadata": {
        "id": "EXaWgGQJySY5"
      }
    },
    {
      "cell_type": "code",
      "metadata": {
        "id": "RUE1Q7yENb7_"
      },
      "source": [
        "!pip install fastseg"
      ],
      "execution_count": null,
      "outputs": []
    },
    {
      "cell_type": "code",
      "metadata": {
        "id": "4s-MB31kQQUh"
      },
      "source": [
        "import torch\n",
        "from PIL import Image\n",
        "from IPython.display import display\n",
        "\n",
        "from fastseg import MobileV3Large\n",
        "from fastseg.image import colorize, blend\n",
        "\n",
        "print(torch.__version__)"
      ],
      "execution_count": null,
      "outputs": []
    },
    {
      "cell_type": "markdown",
      "metadata": {
        "id": "1ARstAjhN_2D"
      },
      "source": [
        "Next, we load a pretrained model on the GPU and set it to evaluation mode."
      ]
    },
    {
      "cell_type": "code",
      "metadata": {
        "id": "p3dTr-VCNi4O"
      },
      "source": [
        "model = MobileV3Large.from_pretrained().cuda().eval()"
      ],
      "execution_count": null,
      "outputs": []
    },
    {
      "cell_type": "markdown",
      "metadata": {
        "id": "UEejIwoMPfsP"
      },
      "source": [
        "Now we can run inference. Here's a sample image from Cityscapes (1024 x 2048) that we can download to `street.png`."
      ]
    },
    {
      "cell_type": "code",
      "metadata": {
        "id": "fl8QpdL4OK46"
      },
      "source": [],
      "execution_count": null,
      "outputs": []
    },
    {
      "cell_type": "code",
      "metadata": {
        "id": "uEOVgf9oPypR"
      },
      "source": [
        "img = Image.open('band.jpeg')\n",
        "display(img.resize((800, 400)))"
      ],
      "execution_count": null,
      "outputs": []
    },
    {
      "cell_type": "code",
      "metadata": {
        "id": "HoDmgGKKP2CJ"
      },
      "source": [
        "labels = model.predict_one(img)\n",
        "print('Shape:', labels.shape)\n",
        "print(labels)"
      ],
      "execution_count": null,
      "outputs": []
    },
    {
      "cell_type": "markdown",
      "metadata": {
        "id": "i8y051JYQDf8"
      },
      "source": [
        "The returned labels are in a NumPy array, with integer values representing the 19 semantic classes from Cityscapes."
      ]
    },
    {
      "cell_type": "code",
      "metadata": {
        "id": "fXCegmJrQB_s"
      },
      "source": [
        "colorized = colorize(labels)\n",
        "display(colorized.resize((800, 400)))"
      ],
      "execution_count": null,
      "outputs": []
    },
    {
      "cell_type": "code",
      "metadata": {
        "id": "VYVtEQlCRoLr"
      },
      "source": [
        "composited = blend(img, colorized)\n",
        "display(composited.resize((800, 400)))"
      ],
      "execution_count": null,
      "outputs": []
    }
  ]
}